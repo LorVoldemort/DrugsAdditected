{
 "cells": [
  {
   "cell_type": "code",
   "execution_count": 241,
   "metadata": {},
   "outputs": [],
   "source": [
    "import pandas as pd\n",
    "import seaborn as sns\n",
    "import matplotlib.pyplot as plt\n",
    "from sklearn.model_selection import train_test_split\n",
    "from sklearn.ensemble import RandomForestClassifier\n",
    "from sklearn.metrics import mean_squared_error,r2_score"
   ]
  },
  {
   "cell_type": "code",
   "execution_count": 242,
   "metadata": {},
   "outputs": [],
   "source": [
    "Drug = pd.read_csv(r\"dataset .csv\")"
   ]
  },
  {
   "cell_type": "code",
   "execution_count": 243,
   "metadata": {},
   "outputs": [
    {
     "data": {
      "text/plain": [
       "(3007, 23)"
      ]
     },
     "execution_count": 243,
     "metadata": {},
     "output_type": "execute_result"
    }
   ],
   "source": [
    "Drug.shape"
   ]
  },
  {
   "cell_type": "code",
   "execution_count": 244,
   "metadata": {},
   "outputs": [
    {
     "data": {
      "text/html": [
       "<div>\n",
       "<style scoped>\n",
       "    .dataframe tbody tr th:only-of-type {\n",
       "        vertical-align: middle;\n",
       "    }\n",
       "\n",
       "    .dataframe tbody tr th {\n",
       "        vertical-align: top;\n",
       "    }\n",
       "\n",
       "    .dataframe thead th {\n",
       "        text-align: right;\n",
       "    }\n",
       "</style>\n",
       "<table border=\"1\" class=\"dataframe\">\n",
       "  <thead>\n",
       "    <tr style=\"text-align: right;\">\n",
       "      <th></th>\n",
       "      <th>SNO</th>\n",
       "      <th>NLME_RESULT_ID</th>\n",
       "      <th>NLME_CURVE_ID</th>\n",
       "      <th>COMPANY_ID</th>\n",
       "      <th>COSMIC_ID</th>\n",
       "      <th>DRUG_ID</th>\n",
       "      <th>MIN_CONC</th>\n",
       "      <th>MAX_CONC</th>\n",
       "      <th>LN_IC50</th>\n",
       "    </tr>\n",
       "  </thead>\n",
       "  <tbody>\n",
       "    <tr>\n",
       "      <th>count</th>\n",
       "      <td>3002.000000</td>\n",
       "      <td>3001.0</td>\n",
       "      <td>3.001000e+03</td>\n",
       "      <td>3002.0</td>\n",
       "      <td>3002.000000</td>\n",
       "      <td>3001.000000</td>\n",
       "      <td>3001.000000</td>\n",
       "      <td>3000.000000</td>\n",
       "      <td>3002.000000</td>\n",
       "    </tr>\n",
       "    <tr>\n",
       "      <th>mean</th>\n",
       "      <td>1501.498668</td>\n",
       "      <td>342.0</td>\n",
       "      <td>1.572783e+07</td>\n",
       "      <td>1045.0</td>\n",
       "      <td>823673.569287</td>\n",
       "      <td>46.938687</td>\n",
       "      <td>0.017279</td>\n",
       "      <td>4.418907</td>\n",
       "      <td>1.547655</td>\n",
       "    </tr>\n",
       "    <tr>\n",
       "      <th>std</th>\n",
       "      <td>866.744774</td>\n",
       "      <td>0.0</td>\n",
       "      <td>8.860492e+04</td>\n",
       "      <td>0.0</td>\n",
       "      <td>93094.625850</td>\n",
       "      <td>72.225694</td>\n",
       "      <td>0.019293</td>\n",
       "      <td>4.935705</td>\n",
       "      <td>2.407004</td>\n",
       "    </tr>\n",
       "    <tr>\n",
       "      <th>min</th>\n",
       "      <td>1.000000</td>\n",
       "      <td>342.0</td>\n",
       "      <td>1.558043e+07</td>\n",
       "      <td>1045.0</td>\n",
       "      <td>683667.000000</td>\n",
       "      <td>1.000000</td>\n",
       "      <td>0.000391</td>\n",
       "      <td>0.100000</td>\n",
       "      <td>-8.727691</td>\n",
       "    </tr>\n",
       "    <tr>\n",
       "      <th>25%</th>\n",
       "      <td>751.250000</td>\n",
       "      <td>342.0</td>\n",
       "      <td>1.565283e+07</td>\n",
       "      <td>1045.0</td>\n",
       "      <td>753531.000000</td>\n",
       "      <td>6.000000</td>\n",
       "      <td>0.007813</td>\n",
       "      <td>2.000000</td>\n",
       "      <td>0.311601</td>\n",
       "    </tr>\n",
       "    <tr>\n",
       "      <th>50%</th>\n",
       "      <td>1501.500000</td>\n",
       "      <td>342.0</td>\n",
       "      <td>1.572344e+07</td>\n",
       "      <td>1045.0</td>\n",
       "      <td>905955.000000</td>\n",
       "      <td>29.000000</td>\n",
       "      <td>0.007813</td>\n",
       "      <td>2.000000</td>\n",
       "      <td>2.106095</td>\n",
       "    </tr>\n",
       "    <tr>\n",
       "      <th>75%</th>\n",
       "      <td>2251.750000</td>\n",
       "      <td>342.0</td>\n",
       "      <td>1.579428e+07</td>\n",
       "      <td>1045.0</td>\n",
       "      <td>907175.000000</td>\n",
       "      <td>35.000000</td>\n",
       "      <td>0.020000</td>\n",
       "      <td>5.120000</td>\n",
       "      <td>3.142392</td>\n",
       "    </tr>\n",
       "    <tr>\n",
       "      <th>max</th>\n",
       "      <td>3000.000000</td>\n",
       "      <td>342.0</td>\n",
       "      <td>1.590139e+07</td>\n",
       "      <td>1045.0</td>\n",
       "      <td>909702.000000</td>\n",
       "      <td>249.000000</td>\n",
       "      <td>0.062500</td>\n",
       "      <td>16.000000</td>\n",
       "      <td>6.586846</td>\n",
       "    </tr>\n",
       "  </tbody>\n",
       "</table>\n",
       "</div>"
      ],
      "text/plain": [
       "               SNO  NLME_RESULT_ID  NLME_CURVE_ID  COMPANY_ID      COSMIC_ID  \\\n",
       "count  3002.000000          3001.0   3.001000e+03      3002.0    3002.000000   \n",
       "mean   1501.498668           342.0   1.572783e+07      1045.0  823673.569287   \n",
       "std     866.744774             0.0   8.860492e+04         0.0   93094.625850   \n",
       "min       1.000000           342.0   1.558043e+07      1045.0  683667.000000   \n",
       "25%     751.250000           342.0   1.565283e+07      1045.0  753531.000000   \n",
       "50%    1501.500000           342.0   1.572344e+07      1045.0  905955.000000   \n",
       "75%    2251.750000           342.0   1.579428e+07      1045.0  907175.000000   \n",
       "max    3000.000000           342.0   1.590139e+07      1045.0  909702.000000   \n",
       "\n",
       "           DRUG_ID     MIN_CONC     MAX_CONC      LN_IC50  \n",
       "count  3001.000000  3001.000000  3000.000000  3002.000000  \n",
       "mean     46.938687     0.017279     4.418907     1.547655  \n",
       "std      72.225694     0.019293     4.935705     2.407004  \n",
       "min       1.000000     0.000391     0.100000    -8.727691  \n",
       "25%       6.000000     0.007813     2.000000     0.311601  \n",
       "50%      29.000000     0.007813     2.000000     2.106095  \n",
       "75%      35.000000     0.020000     5.120000     3.142392  \n",
       "max     249.000000     0.062500    16.000000     6.586846  "
      ]
     },
     "execution_count": 244,
     "metadata": {},
     "output_type": "execute_result"
    }
   ],
   "source": [
    "Drug.describe()"
   ]
  },
  {
   "cell_type": "code",
   "execution_count": 245,
   "metadata": {},
   "outputs": [
    {
     "name": "stdout",
     "output_type": "stream",
     "text": [
      "<class 'pandas.core.frame.DataFrame'>\n",
      "RangeIndex: 3007 entries, 0 to 3006\n",
      "Data columns (total 23 columns):\n",
      " #   Column           Non-Null Count  Dtype  \n",
      "---  ------           --------------  -----  \n",
      " 0   SNO              3002 non-null   float64\n",
      " 1   DATASET          3002 non-null   object \n",
      " 2   NLME_RESULT_ID   3001 non-null   float64\n",
      " 3   NLME_CURVE_ID    3001 non-null   float64\n",
      " 4   COMPANY_ID       3002 non-null   float64\n",
      " 5   SANGER_MODEL_ID  3001 non-null   object \n",
      " 6   COSMIC_ID        3002 non-null   float64\n",
      " 7   CELL_LINE_NAME   3002 non-null   object \n",
      " 8   TCGA_DESC        3001 non-null   object \n",
      " 9   TISSUE           2985 non-null   object \n",
      " 10  TISSUE_SUBTYPE   2993 non-null   object \n",
      " 11  DRUG_ID          3001 non-null   float64\n",
      " 12  DRUG_NAME        3002 non-null   object \n",
      " 13  PUTATIVE_TARGET  2999 non-null   object \n",
      " 14  PATHWAY_NAME     2999 non-null   object \n",
      " 15  MIN_CONC         3001 non-null   float64\n",
      " 16  MAX_CONC         3000 non-null   float64\n",
      " 17  LN_IC50          3002 non-null   float64\n",
      " 18  GENE             3001 non-null   object \n",
      " 19  TRANSCRIPT       3001 non-null   object \n",
      " 20  cDNA             3002 non-null   object \n",
      " 21  AA_POSITION      3002 non-null   object \n",
      " 22  GENE_LIST        3002 non-null   object \n",
      "dtypes: float64(9), object(14)\n",
      "memory usage: 540.4+ KB\n"
     ]
    }
   ],
   "source": [
    "Drug.info()"
   ]
  },
  {
   "cell_type": "code",
   "execution_count": 246,
   "metadata": {},
   "outputs": [
    {
     "data": {
      "text/plain": [
       "SNO                 5\n",
       "DATASET             5\n",
       "NLME_RESULT_ID      6\n",
       "NLME_CURVE_ID       6\n",
       "COMPANY_ID          5\n",
       "SANGER_MODEL_ID     6\n",
       "COSMIC_ID           5\n",
       "CELL_LINE_NAME      5\n",
       "TCGA_DESC           6\n",
       "TISSUE             22\n",
       "TISSUE_SUBTYPE     14\n",
       "DRUG_ID             6\n",
       "DRUG_NAME           5\n",
       "PUTATIVE_TARGET     8\n",
       "PATHWAY_NAME        8\n",
       "MIN_CONC            6\n",
       "MAX_CONC            7\n",
       "LN_IC50             5\n",
       "GENE                6\n",
       "TRANSCRIPT          6\n",
       "cDNA                5\n",
       "AA_POSITION         5\n",
       "GENE_LIST           5\n",
       "dtype: int64"
      ]
     },
     "execution_count": 246,
     "metadata": {},
     "output_type": "execute_result"
    }
   ],
   "source": [
    "Drug.isnull().sum()"
   ]
  },
  {
   "cell_type": "code",
   "execution_count": 247,
   "metadata": {},
   "outputs": [
    {
     "name": "stderr",
     "output_type": "stream",
     "text": [
      "C:\\Users\\shrij\\AppData\\Local\\Temp\\ipykernel_3044\\2073173821.py:2: FutureWarning: A value is trying to be set on a copy of a DataFrame or Series through chained assignment using an inplace method.\n",
      "The behavior will change in pandas 3.0. This inplace method will never work because the intermediate object on which we are setting values always behaves as a copy.\n",
      "\n",
      "For example, when doing 'df[col].method(value, inplace=True)', try using 'df.method({col: value}, inplace=True)' or df[col] = df[col].method(value) instead, to perform the operation inplace on the original object.\n",
      "\n",
      "\n",
      "  Drug[i].fillna(Drug[i].mode()[0],inplace= True)\n"
     ]
    }
   ],
   "source": [
    "for i in Drug.select_dtypes(include=\"object\"):\n",
    "    Drug[i].fillna(Drug[i].mode()[0],inplace= True)"
   ]
  },
  {
   "cell_type": "code",
   "execution_count": 248,
   "metadata": {},
   "outputs": [
    {
     "data": {
      "text/plain": [
       "Index(['SNO', 'NLME_RESULT_ID', 'NLME_CURVE_ID', 'COMPANY_ID', 'COSMIC_ID',\n",
       "       'DRUG_ID', 'MIN_CONC', 'MAX_CONC', 'LN_IC50'],\n",
       "      dtype='object')"
      ]
     },
     "execution_count": 248,
     "metadata": {},
     "output_type": "execute_result"
    }
   ],
   "source": [
    "Drug.select_dtypes(include=\"float64\").columns"
   ]
  },
  {
   "cell_type": "code",
   "execution_count": 249,
   "metadata": {},
   "outputs": [],
   "source": [
    "from sklearn.impute import SimpleImputer\n"
   ]
  },
  {
   "cell_type": "code",
   "execution_count": 250,
   "metadata": {},
   "outputs": [],
   "source": [
    "si = SimpleImputer(strategy=\"mean\")\n",
    "ar = si.fit_transform(Drug[['SNO', 'NLME_RESULT_ID', 'NLME_CURVE_ID', 'COMPANY_ID', 'COSMIC_ID','DRUG_ID', 'MIN_CONC', 'MAX_CONC', 'LN_IC50']])"
   ]
  },
  {
   "cell_type": "code",
   "execution_count": 251,
   "metadata": {},
   "outputs": [],
   "source": [
    "new_data = pd.DataFrame(ar,columns=Drug.select_dtypes(include=\"float64\").columns)"
   ]
  },
  {
   "cell_type": "code",
   "execution_count": 252,
   "metadata": {},
   "outputs": [],
   "source": [
    "Drug[['SNO', 'NLME_RESULT_ID', 'NLME_CURVE_ID', 'COMPANY_ID', 'COSMIC_ID',\n",
    "       'DRUG_ID', 'MIN_CONC', 'MAX_CONC', 'LN_IC50']] = new_data"
   ]
  },
  {
   "cell_type": "code",
   "execution_count": 253,
   "metadata": {},
   "outputs": [
    {
     "data": {
      "text/html": [
       "<div>\n",
       "<style scoped>\n",
       "    .dataframe tbody tr th:only-of-type {\n",
       "        vertical-align: middle;\n",
       "    }\n",
       "\n",
       "    .dataframe tbody tr th {\n",
       "        vertical-align: top;\n",
       "    }\n",
       "\n",
       "    .dataframe thead th {\n",
       "        text-align: right;\n",
       "    }\n",
       "</style>\n",
       "<table border=\"1\" class=\"dataframe\">\n",
       "  <thead>\n",
       "    <tr style=\"text-align: right;\">\n",
       "      <th></th>\n",
       "      <th>SNO</th>\n",
       "      <th>NLME_RESULT_ID</th>\n",
       "      <th>NLME_CURVE_ID</th>\n",
       "      <th>COMPANY_ID</th>\n",
       "      <th>COSMIC_ID</th>\n",
       "      <th>DRUG_ID</th>\n",
       "      <th>MIN_CONC</th>\n",
       "      <th>MAX_CONC</th>\n",
       "      <th>LN_IC50</th>\n",
       "    </tr>\n",
       "  </thead>\n",
       "  <tbody>\n",
       "    <tr>\n",
       "      <th>count</th>\n",
       "      <td>3007.000000</td>\n",
       "      <td>3007.0</td>\n",
       "      <td>3.007000e+03</td>\n",
       "      <td>3007.0</td>\n",
       "      <td>3007.000000</td>\n",
       "      <td>3007.000000</td>\n",
       "      <td>3007.000000</td>\n",
       "      <td>3007.000000</td>\n",
       "      <td>3007.000000</td>\n",
       "    </tr>\n",
       "    <tr>\n",
       "      <th>mean</th>\n",
       "      <td>1501.498668</td>\n",
       "      <td>342.0</td>\n",
       "      <td>1.572783e+07</td>\n",
       "      <td>1045.0</td>\n",
       "      <td>823673.569287</td>\n",
       "      <td>46.938687</td>\n",
       "      <td>0.017279</td>\n",
       "      <td>4.418907</td>\n",
       "      <td>1.547655</td>\n",
       "    </tr>\n",
       "    <tr>\n",
       "      <th>std</th>\n",
       "      <td>866.023629</td>\n",
       "      <td>0.0</td>\n",
       "      <td>8.851645e+04</td>\n",
       "      <td>0.0</td>\n",
       "      <td>93017.169621</td>\n",
       "      <td>72.153577</td>\n",
       "      <td>0.019274</td>\n",
       "      <td>4.929955</td>\n",
       "      <td>2.405002</td>\n",
       "    </tr>\n",
       "    <tr>\n",
       "      <th>min</th>\n",
       "      <td>1.000000</td>\n",
       "      <td>342.0</td>\n",
       "      <td>1.558043e+07</td>\n",
       "      <td>1045.0</td>\n",
       "      <td>683667.000000</td>\n",
       "      <td>1.000000</td>\n",
       "      <td>0.000391</td>\n",
       "      <td>0.100000</td>\n",
       "      <td>-8.727691</td>\n",
       "    </tr>\n",
       "    <tr>\n",
       "      <th>25%</th>\n",
       "      <td>752.500000</td>\n",
       "      <td>342.0</td>\n",
       "      <td>1.565302e+07</td>\n",
       "      <td>1045.0</td>\n",
       "      <td>753531.000000</td>\n",
       "      <td>6.000000</td>\n",
       "      <td>0.007813</td>\n",
       "      <td>2.000000</td>\n",
       "      <td>0.330727</td>\n",
       "    </tr>\n",
       "    <tr>\n",
       "      <th>50%</th>\n",
       "      <td>1501.498668</td>\n",
       "      <td>342.0</td>\n",
       "      <td>1.572364e+07</td>\n",
       "      <td>1045.0</td>\n",
       "      <td>905955.000000</td>\n",
       "      <td>29.000000</td>\n",
       "      <td>0.007813</td>\n",
       "      <td>2.000000</td>\n",
       "      <td>2.103799</td>\n",
       "    </tr>\n",
       "    <tr>\n",
       "      <th>75%</th>\n",
       "      <td>2250.500000</td>\n",
       "      <td>342.0</td>\n",
       "      <td>1.579423e+07</td>\n",
       "      <td>1045.0</td>\n",
       "      <td>907175.000000</td>\n",
       "      <td>35.000000</td>\n",
       "      <td>0.020000</td>\n",
       "      <td>5.120000</td>\n",
       "      <td>3.141288</td>\n",
       "    </tr>\n",
       "    <tr>\n",
       "      <th>max</th>\n",
       "      <td>3000.000000</td>\n",
       "      <td>342.0</td>\n",
       "      <td>1.590139e+07</td>\n",
       "      <td>1045.0</td>\n",
       "      <td>909702.000000</td>\n",
       "      <td>249.000000</td>\n",
       "      <td>0.062500</td>\n",
       "      <td>16.000000</td>\n",
       "      <td>6.586846</td>\n",
       "    </tr>\n",
       "  </tbody>\n",
       "</table>\n",
       "</div>"
      ],
      "text/plain": [
       "               SNO  NLME_RESULT_ID  NLME_CURVE_ID  COMPANY_ID      COSMIC_ID  \\\n",
       "count  3007.000000          3007.0   3.007000e+03      3007.0    3007.000000   \n",
       "mean   1501.498668           342.0   1.572783e+07      1045.0  823673.569287   \n",
       "std     866.023629             0.0   8.851645e+04         0.0   93017.169621   \n",
       "min       1.000000           342.0   1.558043e+07      1045.0  683667.000000   \n",
       "25%     752.500000           342.0   1.565302e+07      1045.0  753531.000000   \n",
       "50%    1501.498668           342.0   1.572364e+07      1045.0  905955.000000   \n",
       "75%    2250.500000           342.0   1.579423e+07      1045.0  907175.000000   \n",
       "max    3000.000000           342.0   1.590139e+07      1045.0  909702.000000   \n",
       "\n",
       "           DRUG_ID     MIN_CONC     MAX_CONC      LN_IC50  \n",
       "count  3007.000000  3007.000000  3007.000000  3007.000000  \n",
       "mean     46.938687     0.017279     4.418907     1.547655  \n",
       "std      72.153577     0.019274     4.929955     2.405002  \n",
       "min       1.000000     0.000391     0.100000    -8.727691  \n",
       "25%       6.000000     0.007813     2.000000     0.330727  \n",
       "50%      29.000000     0.007813     2.000000     2.103799  \n",
       "75%      35.000000     0.020000     5.120000     3.141288  \n",
       "max     249.000000     0.062500    16.000000     6.586846  "
      ]
     },
     "execution_count": 253,
     "metadata": {},
     "output_type": "execute_result"
    }
   ],
   "source": [
    "Drug.describe()"
   ]
  }
 ],
 "metadata": {
  "kernelspec": {
   "display_name": "Python 3",
   "language": "python",
   "name": "python3"
  },
  "language_info": {
   "codemirror_mode": {
    "name": "ipython",
    "version": 3
   },
   "file_extension": ".py",
   "mimetype": "text/x-python",
   "name": "python",
   "nbconvert_exporter": "python",
   "pygments_lexer": "ipython3",
   "version": "3.12.5"
  }
 },
 "nbformat": 4,
 "nbformat_minor": 2
}
